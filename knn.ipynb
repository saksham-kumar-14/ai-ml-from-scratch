{
 "cells": [
  {
   "cell_type": "code",
   "execution_count": 6,
   "id": "13467bb8-e30d-4035-927c-78db54c6e666",
   "metadata": {},
   "outputs": [],
   "source": [
    "import numpy as np\n",
    "import matplotlib.pyplot as plt\n",
    "from utils import *\n",
    "\n",
    "%matplotlib inline"
   ]
  },
  {
   "cell_type": "code",
   "execution_count": 7,
   "id": "60d275d9-0f88-4123-b9a2-73ab6ad3c9af",
   "metadata": {},
   "outputs": [],
   "source": [
    "def find_closest_centroids(X, centroids, idx):\n",
    "    a, b = X.shape\n",
    "    K = centroids.shape[0]\n",
    "\n",
    "    for i in range(a):\n",
    "        d = (a[i][0] - centroids[0][0])**2 + (a[i][1] - centroids[0][1])**2\n",
    "        r = 0\n",
    "\n",
    "        for j in range(1, K):\n",
    "            d_ = (a[i][0] - centroids[j][0])**2 + (a[i][1] - centroids[j][1])**2\n",
    "            if d_ < d:\n",
    "                d = d_\n",
    "                r = j\n",
    "\n",
    "        idx[i] = r \n",
    "\n",
    "    return idx"
   ]
  },
  {
   "cell_type": "code",
   "execution_count": 8,
   "id": "df9d86ce-f473-4c1f-a200-9c748ba65295",
   "metadata": {},
   "outputs": [],
   "source": [
    "def computer_centroids(X, idx, K):\n",
    "    a, b = X.shape\n",
    "    centroids = np.zeros(K, b)\n",
    "\n",
    "    for i in range(K):\n",
    "        le = 0\n",
    "        x, y = 0, 0\n",
    "        for j in range(a):\n",
    "            if idx[j] == i:\n",
    "                x += X[j][0]\n",
    "                y += X[j][1]\n",
    "                le += 1\n",
    "\n",
    "        if le != 0:\n",
    "            x /= le\n",
    "            y /= le\n",
    "        centroids[i][0] = x\n",
    "        centroids[i][1] = y\n",
    "\n",
    "    centroids"
   ]
  },
  {
   "cell_type": "code",
   "execution_count": 9,
   "id": "2f2ef328-79c7-4ce1-8fff-6688ade95170",
   "metadata": {},
   "outputs": [],
   "source": [
    "def run_kMeans(X, initial_centroids, max_iters=10, plot_progress=False):\n",
    "    \n",
    "    m, n = X.shape\n",
    "    K = initial_centroids.shape[0]\n",
    "    centroids = initial_centroids\n",
    "    previous_centroids = centroids    \n",
    "    idx = np.zeros(m)\n",
    "    plt.figure(figsize=(8, 6))\n",
    "    \n",
    "    for i in range(max_iters):\n",
    "        \n",
    "        print(\"K-Means iteration %d/%d\" % (i, max_iters-1))\n",
    "        \n",
    "        idx = find_closest_centroids(X, centroids)\n",
    "        \n",
    "        if plot_progress:\n",
    "            plot_progress_kMeans(X, centroids, previous_centroids, idx, K, i)\n",
    "            previous_centroids = centroids\n",
    "\n",
    "        \n",
    "        centroids = compute_centroids(X, idx, K)\n",
    "    plt.show() \n",
    "    return centroids, idx"
   ]
  },
  {
   "cell_type": "code",
   "execution_count": null,
   "id": "e5421eaa-a1ed-4e35-a1b2-7b92e7ed2757",
   "metadata": {},
   "outputs": [],
   "source": [
    "def kMeans_init_centroids(X, K):\n",
    "    \n",
    "    randidx = np.random.permutation(X.shape[0])\n",
    "    \n",
    "    centroids = X[randidx[:K]]\n",
    "    \n",
    "    return centroids"
   ]
  }
 ],
 "metadata": {
  "kernelspec": {
   "display_name": "Python 3 (ipykernel)",
   "language": "python",
   "name": "python3"
  },
  "language_info": {
   "codemirror_mode": {
    "name": "ipython",
    "version": 3
   },
   "file_extension": ".py",
   "mimetype": "text/x-python",
   "name": "python",
   "nbconvert_exporter": "python",
   "pygments_lexer": "ipython3",
   "version": "3.12.7"
  }
 },
 "nbformat": 4,
 "nbformat_minor": 5
}
